{
 "cells": [
  {
   "cell_type": "markdown",
   "id": "a01e60c1",
   "metadata": {},
   "source": [
    "# POSTTEST 7 KB\n",
    "## Rivan Abdillah (2009106025)"
   ]
  },
  {
   "cell_type": "code",
   "execution_count": 1,
   "id": "4275e07b",
   "metadata": {},
   "outputs": [],
   "source": [
    "import tensorflow as tf\n",
    "import numpy as np"
   ]
  },
  {
   "cell_type": "markdown",
   "id": "30ece337",
   "metadata": {},
   "source": [
    "### Tensor dengan shape(5,5) dengan nilai random"
   ]
  },
  {
   "cell_type": "code",
   "execution_count": 15,
   "id": "e028b54d",
   "metadata": {},
   "outputs": [],
   "source": [
    "random_tensor = tf.Variable(tf.random.normal([5,5],mean=10))"
   ]
  },
  {
   "cell_type": "code",
   "execution_count": 16,
   "id": "9b7d1b35",
   "metadata": {},
   "outputs": [
    {
     "data": {
      "text/plain": [
       "<tf.Variable 'Variable:0' shape=(5, 5) dtype=float32, numpy=\n",
       "array([[ 9.054784, 10.383181,  8.829741,  9.5535  ,  8.393227],\n",
       "       [10.630184,  8.308507, 10.725995,  9.54934 , 11.242583],\n",
       "       [ 9.139395,  8.789129, 10.615953,  9.326111,  8.779099],\n",
       "       [ 9.148739,  9.354665,  9.027039, 11.524569, 10.761619],\n",
       "       [ 9.656995,  9.09507 ,  8.468249,  8.957924, 12.712107]],\n",
       "      dtype=float32)>"
      ]
     },
     "execution_count": 16,
     "metadata": {},
     "output_type": "execute_result"
    }
   ],
   "source": [
    "random_tensor"
   ]
  },
  {
   "cell_type": "markdown",
   "id": "68e6e542",
   "metadata": {},
   "source": [
    "### Tensor dengan shape(5,5) dari sebuah list dengan nilai bilangan prima"
   ]
  },
  {
   "cell_type": "code",
   "execution_count": 10,
   "id": "d05d694a",
   "metadata": {},
   "outputs": [],
   "source": [
    "list = [2,3,5,7,11,13,17,19,23,29,31,37,41,43,47,53,59,61,67,71,73,79,83,89,101]\n",
    "prime_tensor = tf.convert_to_tensor(list, dtype=tf.float32)\n",
    "prime_tensor = tf.reshape(prime_tensor,[5,5])"
   ]
  },
  {
   "cell_type": "code",
   "execution_count": 11,
   "id": "64f6b0ec",
   "metadata": {},
   "outputs": [
    {
     "data": {
      "text/plain": [
       "<tf.Tensor: shape=(5, 5), dtype=float32, numpy=\n",
       "array([[  2.,   3.,   5.,   7.,  11.],\n",
       "       [ 13.,  17.,  19.,  23.,  29.],\n",
       "       [ 31.,  37.,  41.,  43.,  47.],\n",
       "       [ 53.,  59.,  61.,  67.,  71.],\n",
       "       [ 73.,  79.,  83.,  89., 101.]], dtype=float32)>"
      ]
     },
     "execution_count": 11,
     "metadata": {},
     "output_type": "execute_result"
    }
   ],
   "source": [
    "prime_tensor"
   ]
  },
  {
   "cell_type": "markdown",
   "id": "8949ede5",
   "metadata": {},
   "source": [
    "### Tampilan dimensi dari kedua variable"
   ]
  },
  {
   "cell_type": "code",
   "execution_count": 17,
   "id": "d698f320",
   "metadata": {},
   "outputs": [
    {
     "name": "stdout",
     "output_type": "stream",
     "text": [
      "(5, 5)\n"
     ]
    }
   ],
   "source": [
    "print(random_tensor.get_shape())"
   ]
  },
  {
   "cell_type": "code",
   "execution_count": 18,
   "id": "60e7614a",
   "metadata": {},
   "outputs": [
    {
     "name": "stdout",
     "output_type": "stream",
     "text": [
      "(5, 5)\n"
     ]
    }
   ],
   "source": [
    "print(prime_tensor.get_shape())"
   ]
  },
  {
   "cell_type": "markdown",
   "id": "21c47fc5",
   "metadata": {},
   "source": [
    "### Perhitungan aritmetika 2 variable antara random dan prime tensor"
   ]
  },
  {
   "cell_type": "code",
   "execution_count": 19,
   "id": "fd4c0953",
   "metadata": {},
   "outputs": [],
   "source": [
    "a = random_tensor\n",
    "b = prime_tensor"
   ]
  },
  {
   "cell_type": "code",
   "execution_count": 21,
   "id": "f807ca65",
   "metadata": {},
   "outputs": [
    {
     "name": "stdout",
     "output_type": "stream",
     "text": [
      "tf.Tensor(\n",
      "[[ 11.054784  13.383181  13.829741  16.553501  19.393227]\n",
      " [ 23.630184  25.308506  29.725994  32.54934   40.242584]\n",
      " [ 40.139397  45.78913   51.61595   52.32611   55.7791  ]\n",
      " [ 62.14874   68.35467   70.02704   78.52457   81.76162 ]\n",
      " [ 82.657     88.09507   91.46825   97.957924 113.712105]], shape=(5, 5), dtype=float32)\n"
     ]
    }
   ],
   "source": [
    "# penjumlahan tensor\n",
    "print(tf.add(a,b))"
   ]
  },
  {
   "cell_type": "code",
   "execution_count": 26,
   "id": "723afaf4",
   "metadata": {},
   "outputs": [
    {
     "name": "stdout",
     "output_type": "stream",
     "text": [
      "tf.Tensor(\n",
      "[[  7.054784    7.3831806   3.8297405   2.5535002  -2.6067734]\n",
      " [ -2.3698158  -8.691493   -8.274005  -13.45066   -17.757416 ]\n",
      " [-21.860605  -28.21087   -30.384047  -33.67389   -38.2209   ]\n",
      " [-43.85126   -49.645336  -51.97296   -55.475433  -60.23838  ]\n",
      " [-63.343006  -69.90493   -74.53175   -80.042076  -88.287895 ]], shape=(5, 5), dtype=float32)\n"
     ]
    }
   ],
   "source": [
    "# pengurangan tensor\n",
    "print(tf.math.subtract(a,b))"
   ]
  },
  {
   "cell_type": "code",
   "execution_count": 27,
   "id": "3dbc182a",
   "metadata": {},
   "outputs": [
    {
     "name": "stdout",
     "output_type": "stream",
     "text": [
      "tf.Tensor(\n",
      "[[  18.109568   31.149542   44.148705   66.874504   92.32549 ]\n",
      " [ 138.1924    141.24461   203.7939    219.63483   326.0349  ]\n",
      " [ 283.32123   325.19778   435.2541    401.02277   412.61768 ]\n",
      " [ 484.88315   551.92523   550.64935   772.1461    764.07495 ]\n",
      " [ 704.96063   718.5105    702.8647    797.25525  1283.9227  ]], shape=(5, 5), dtype=float32)\n"
     ]
    }
   ],
   "source": [
    "# perkalian tensor\n",
    "print(tf.multiply(a,b))"
   ]
  },
  {
   "cell_type": "code",
   "execution_count": 28,
   "id": "290c23db",
   "metadata": {},
   "outputs": [
    {
     "name": "stdout",
     "output_type": "stream",
     "text": [
      "tf.Tensor(\n",
      "[[4.527392   3.4610603  1.765948   1.3647858  0.7630206 ]\n",
      " [0.81770647 0.4887357  0.5645261  0.4151887  0.3876753 ]\n",
      " [0.29481918 0.23754403 0.2589257  0.2168863  0.18678935]\n",
      " [0.17261772 0.15855365 0.14798424 0.17200848 0.1515721 ]\n",
      " [0.1322876  0.11512747 0.1020271  0.10065083 0.12586245]], shape=(5, 5), dtype=float32)\n"
     ]
    }
   ],
   "source": [
    "# pembagian tensor\n",
    "print(tf.divide(a,b))"
   ]
  },
  {
   "cell_type": "code",
   "execution_count": 29,
   "id": "1bb5e738",
   "metadata": {},
   "outputs": [
    {
     "name": "stdout",
     "output_type": "stream",
     "text": [
      "tf.Tensor(\n",
      "[[1545.8539 1757.1003 1883.975  2068.957  2341.727 ]\n",
      " [1788.6005 2021.5721 2166.4226 2367.1204 2675.5046]\n",
      " [1596.7902 1813.4131 1945.5026 2128.801  2403.2107]\n",
      " [1816.1466 2050.5935 2189.804  2397.2913 2701.36  ]\n",
      " [1802.8193 2029.6864 2169.8276 2372.4788 2687.927 ]], shape=(5, 5), dtype=float32)\n"
     ]
    }
   ],
   "source": [
    "print(tf.matmul(a,b))"
   ]
  },
  {
   "cell_type": "markdown",
   "id": "702dc2f4",
   "metadata": {},
   "source": [
    "### Nilai maksimal dan minimal dari variable random_tensor"
   ]
  },
  {
   "cell_type": "code",
   "execution_count": 30,
   "id": "f1c1c816",
   "metadata": {},
   "outputs": [
    {
     "name": "stdout",
     "output_type": "stream",
     "text": [
      "Nilai Maksimal :  tf.Tensor([1 0 1 3 4], shape=(5,), dtype=int64)\n",
      "Nilai Minimal :  tf.Tensor([0 1 4 4 0], shape=(5,), dtype=int64)\n"
     ]
    }
   ],
   "source": [
    "print(\"Nilai Maksimal : \",tf.argmax(random_tensor))\n",
    "print(\"Nilai Minimal : \",tf.argmin(random_tensor))"
   ]
  },
  {
   "cell_type": "markdown",
   "id": "847a639d",
   "metadata": {},
   "source": [
    "### Penggabungan variable random_tensor dengan prime_tensor"
   ]
  },
  {
   "cell_type": "code",
   "execution_count": 33,
   "id": "76f466d2",
   "metadata": {},
   "outputs": [
    {
     "name": "stdout",
     "output_type": "stream",
     "text": [
      "tf.Tensor(\n",
      "[[  9.054784  10.383181   8.829741   9.5535     8.393227]\n",
      " [ 10.630184   8.308507  10.725995   9.54934   11.242583]\n",
      " [  9.139395   8.789129  10.615953   9.326111   8.779099]\n",
      " [  9.148739   9.354665   9.027039  11.524569  10.761619]\n",
      " [  9.656995   9.09507    8.468249   8.957924  12.712107]\n",
      " [  2.         3.         5.         7.        11.      ]\n",
      " [ 13.        17.        19.        23.        29.      ]\n",
      " [ 31.        37.        41.        43.        47.      ]\n",
      " [ 53.        59.        61.        67.        71.      ]\n",
      " [ 73.        79.        83.        89.       101.      ]], shape=(10, 5), dtype=float32)\n"
     ]
    }
   ],
   "source": [
    "print(tf.concat([random_tensor, prime_tensor], axis=0))"
   ]
  },
  {
   "cell_type": "markdown",
   "id": "a174a81d",
   "metadata": {},
   "source": [
    "### Tampilkan hasil sorting dari kedua variable di atas"
   ]
  },
  {
   "cell_type": "code",
   "execution_count": 34,
   "id": "5541f937",
   "metadata": {},
   "outputs": [
    {
     "name": "stdout",
     "output_type": "stream",
     "text": [
      "Sebelum sorting : <tf.Variable 'Variable:0' shape=(5, 5) dtype=float32, numpy=\n",
      "array([[ 9.054784, 10.383181,  8.829741,  9.5535  ,  8.393227],\n",
      "       [10.630184,  8.308507, 10.725995,  9.54934 , 11.242583],\n",
      "       [ 9.139395,  8.789129, 10.615953,  9.326111,  8.779099],\n",
      "       [ 9.148739,  9.354665,  9.027039, 11.524569, 10.761619],\n",
      "       [ 9.656995,  9.09507 ,  8.468249,  8.957924, 12.712107]],\n",
      "      dtype=float32)>\n",
      "Setelah descending : tf.Tensor(\n",
      "[[10.383181  9.5535    9.054784  8.829741  8.393227]\n",
      " [11.242583 10.725995 10.630184  9.54934   8.308507]\n",
      " [10.615953  9.326111  9.139395  8.789129  8.779099]\n",
      " [11.524569 10.761619  9.354665  9.148739  9.027039]\n",
      " [12.712107  9.656995  9.09507   8.957924  8.468249]], shape=(5, 5), dtype=float32)\n"
     ]
    }
   ],
   "source": [
    "# random_tensor descending\n",
    "print(\"Sebelum sorting :\", random_tensor)\n",
    "rsort = tf.sort(random_tensor, direction=\"DESCENDING\")\n",
    "print(\"Setelah descending :\", rsort)"
   ]
  },
  {
   "cell_type": "code",
   "execution_count": 36,
   "id": "c3f329b2",
   "metadata": {},
   "outputs": [
    {
     "name": "stdout",
     "output_type": "stream",
     "text": [
      "Sebelum sorting : tf.Tensor(\n",
      "[[  2.   3.   5.   7.  11.]\n",
      " [ 13.  17.  19.  23.  29.]\n",
      " [ 31.  37.  41.  43.  47.]\n",
      " [ 53.  59.  61.  67.  71.]\n",
      " [ 73.  79.  83.  89. 101.]], shape=(5, 5), dtype=float32)\n",
      "Setelah descending : tf.Tensor(\n",
      "[[ 11.   7.   5.   3.   2.]\n",
      " [ 29.  23.  19.  17.  13.]\n",
      " [ 47.  43.  41.  37.  31.]\n",
      " [ 71.  67.  61.  59.  53.]\n",
      " [101.  89.  83.  79.  73.]], shape=(5, 5), dtype=float32)\n"
     ]
    }
   ],
   "source": [
    "# prime_Tensor descending\n",
    "print(\"Sebelum sorting :\", prime_tensor)\n",
    "psort = tf.sort(prime_tensor, direction=\"DESCENDING\")\n",
    "print(\"Setelah descending :\", psort)"
   ]
  }
 ],
 "metadata": {
  "kernelspec": {
   "display_name": "Python 3 (ipykernel)",
   "language": "python",
   "name": "python3"
  },
  "language_info": {
   "codemirror_mode": {
    "name": "ipython",
    "version": 3
   },
   "file_extension": ".py",
   "mimetype": "text/x-python",
   "name": "python",
   "nbconvert_exporter": "python",
   "pygments_lexer": "ipython3",
   "version": "3.10.7"
  }
 },
 "nbformat": 4,
 "nbformat_minor": 5
}
